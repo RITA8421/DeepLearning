{
 "cells": [
  {
   "cell_type": "markdown",
   "metadata": {},
   "source": [
    "# Mean Square Error"
   ]
  },
  {
   "cell_type": "code",
   "execution_count": 2,
   "metadata": {},
   "outputs": [],
   "source": [
    "import numpy as np"
   ]
  },
  {
   "cell_type": "code",
   "execution_count": 27,
   "metadata": {},
   "outputs": [],
   "source": [
    "def mean_square_error(y,y_hat):\n",
    "    if len(y) != len(y_hat):\n",
    "        return \"input's lenth not match!\"\n",
    "    n = len(y)\n",
    "    loss = 0\n",
    "    for i,j in zip(y,y_hat):\n",
    "        loss += (i-j)**2\n",
    "    loss = loss/n\n",
    "    return loss"
   ]
  },
  {
   "cell_type": "code",
   "execution_count": 28,
   "metadata": {
    "scrolled": true
   },
   "outputs": [
    {
     "name": "stdout",
     "output_type": "stream",
     "text": [
      "20.036666666666665\n"
     ]
    }
   ],
   "source": [
    "y = [5.6, 9.6, 1.3]\n",
    "y_hat = [2.5, 4.1, 5.8]\n",
    "\n",
    "loss =  mean_square_error(y,y_hat)\n",
    "\n",
    "print(loss)"
   ]
  },
  {
   "cell_type": "code",
   "execution_count": 29,
   "metadata": {},
   "outputs": [
    {
     "name": "stdout",
     "output_type": "stream",
     "text": [
      "0.586666666666666\n"
     ]
    }
   ],
   "source": [
    "y = [5.6, 9.6, 1.3]\n",
    "y_hat = [5.2, 8.4, 0.9]\n",
    "\n",
    "loss =  mean_square_error(y,y_hat)\n",
    "\n",
    "print(loss)"
   ]
  },
  {
   "cell_type": "markdown",
   "metadata": {},
   "source": [
    "# Mean Abosolute Error"
   ]
  },
  {
   "cell_type": "code",
   "execution_count": 31,
   "metadata": {},
   "outputs": [],
   "source": [
    "def mean_square_error(y,y_hat):\n",
    "    if len(y) != len(y_hat):\n",
    "        return \"input's lenth not match!\"\n",
    "    n = len(y)\n",
    "    loss = 0\n",
    "    for i,j in zip(y,y_hat):\n",
    "        loss += abs(i-j)\n",
    "    loss = loss/n\n",
    "    return loss"
   ]
  },
  {
   "cell_type": "code",
   "execution_count": 32,
   "metadata": {},
   "outputs": [
    {
     "name": "stdout",
     "output_type": "stream",
     "text": [
      "4.366666666666666\n"
     ]
    }
   ],
   "source": [
    "y = [5.6, 9.6, 1.3]\n",
    "y_hat = [2.5, 4.1, 5.8]\n",
    "\n",
    "loss =  mean_square_error(y,y_hat)\n",
    "\n",
    "print(loss)"
   ]
  },
  {
   "cell_type": "code",
   "execution_count": 33,
   "metadata": {},
   "outputs": [
    {
     "name": "stdout",
     "output_type": "stream",
     "text": [
      "0.6666666666666662\n"
     ]
    }
   ],
   "source": [
    "y = [5.6, 9.6, 1.3]\n",
    "y_hat = [5.2, 8.4, 0.9]\n",
    "\n",
    "loss =  mean_square_error(y,y_hat)\n",
    "\n",
    "print(loss)"
   ]
  },
  {
   "cell_type": "markdown",
   "metadata": {},
   "source": [
    "# Cross Entropy"
   ]
  },
  {
   "cell_type": "markdown",
   "metadata": {},
   "source": [
    "Binary Cross Entropy"
   ]
  },
  {
   "cell_type": "code",
   "execution_count": 34,
   "metadata": {},
   "outputs": [],
   "source": [
    "from numpy import log"
   ]
  },
  {
   "cell_type": "code",
   "execution_count": 35,
   "metadata": {},
   "outputs": [],
   "source": [
    "# y --> Label; y_hat --> prediction;\n",
    "def binary_cross_entropy(y, y_hat):\n",
    "    loss =  -y * log(y_hat) - (1-y)*log(1-y_hat)\n",
    "    return loss"
   ]
  },
  {
   "cell_type": "code",
   "execution_count": 36,
   "metadata": {},
   "outputs": [
    {
     "data": {
      "text/plain": [
       "0.01005033585350145"
      ]
     },
     "execution_count": 36,
     "metadata": {},
     "output_type": "execute_result"
    }
   ],
   "source": [
    "binary_cross_entropy(0,0.01)"
   ]
  },
  {
   "cell_type": "code",
   "execution_count": 37,
   "metadata": {},
   "outputs": [
    {
     "data": {
      "text/plain": [
       "0.01005033585350145"
      ]
     },
     "execution_count": 37,
     "metadata": {},
     "output_type": "execute_result"
    }
   ],
   "source": [
    "binary_cross_entropy(1,0.99)"
   ]
  },
  {
   "cell_type": "code",
   "execution_count": 38,
   "metadata": {},
   "outputs": [
    {
     "data": {
      "text/plain": [
       "3.506557897319982"
      ]
     },
     "execution_count": 38,
     "metadata": {},
     "output_type": "execute_result"
    }
   ],
   "source": [
    "binary_cross_entropy(1,0.03)"
   ]
  },
  {
   "cell_type": "code",
   "execution_count": 39,
   "metadata": {},
   "outputs": [
    {
     "data": {
      "text/plain": [
       "2.5257286443082556"
      ]
     },
     "execution_count": 39,
     "metadata": {},
     "output_type": "execute_result"
    }
   ],
   "source": [
    "binary_cross_entropy(1,0.08)"
   ]
  },
  {
   "cell_type": "markdown",
   "metadata": {},
   "source": [
    "Categorical Cross Entropy"
   ]
  },
  {
   "cell_type": "code",
   "execution_count": 40,
   "metadata": {},
   "outputs": [],
   "source": [
    "def categorical_cross_entropy(y,y_hat):\n",
    "    num_elements = len(y)\n",
    "    loss = 0\n",
    "    for i in range(num_elements):\n",
    "        loss += -y[i]*log(y_hat[i])\n",
    "    return loss"
   ]
  },
  {
   "cell_type": "code",
   "execution_count": 42,
   "metadata": {
    "scrolled": true
   },
   "outputs": [
    {
     "name": "stdout",
     "output_type": "stream",
     "text": [
      "0.2231435513142097\n"
     ]
    }
   ],
   "source": [
    "# Label = 3\n",
    "# after one-hot encoding: Label = [0,0,1]\n",
    "y = [0,0,1]\n",
    "y_hat = [0.1,0.3,0.8]\n",
    "loss = categorical_cross_entropy(y, y_hat)\n",
    "print(loss)"
   ]
  },
  {
   "cell_type": "code",
   "execution_count": 44,
   "metadata": {},
   "outputs": [
    {
     "name": "stdout",
     "output_type": "stream",
     "text": [
      "0.5108256237659907\n"
     ]
    }
   ],
   "source": [
    "y = [0,0,1]\n",
    "y_hat = [0.1,0.3,0.6]\n",
    "loss = categorical_cross_entropy(y,y_hat)\n",
    "print(loss)"
   ]
  },
  {
   "cell_type": "code",
   "execution_count": 43,
   "metadata": {
    "scrolled": true
   },
   "outputs": [
    {
     "name": "stdout",
     "output_type": "stream",
     "text": [
      "2.3025850929940455\n"
     ]
    }
   ],
   "source": [
    "y = [0,0,1]\n",
    "y_hat = [0.4,0.5,0.1]\n",
    "loss = categorical_cross_entropy(y,y_hat)\n",
    "print(loss)"
   ]
  }
 ],
 "metadata": {
  "kernelspec": {
   "display_name": "Python 3",
   "language": "python",
   "name": "python3"
  },
  "language_info": {
   "codemirror_mode": {
    "name": "ipython",
    "version": 3
   },
   "file_extension": ".py",
   "mimetype": "text/x-python",
   "name": "python",
   "nbconvert_exporter": "python",
   "pygments_lexer": "ipython3",
   "version": "3.7.1"
  }
 },
 "nbformat": 4,
 "nbformat_minor": 2
}
